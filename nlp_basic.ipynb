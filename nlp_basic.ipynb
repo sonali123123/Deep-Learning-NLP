{
  "nbformat": 4,
  "nbformat_minor": 0,
  "metadata": {
    "colab": {
      "provenance": []
    },
    "kernelspec": {
      "name": "python3",
      "display_name": "Python 3"
    },
    "language_info": {
      "name": "python"
    }
  },
  "cells": [
    {
      "cell_type": "code",
      "execution_count": 1,
      "metadata": {
        "colab": {
          "base_uri": "https://localhost:8080/"
        },
        "id": "uMPZMrVdbCsi",
        "outputId": "1ea8ee56-5126-4b79-f887-989b9d385f97"
      },
      "outputs": [
        {
          "output_type": "stream",
          "name": "stdout",
          "text": [
            "Looking in indexes: https://pypi.org/simple, https://us-python.pkg.dev/colab-wheels/public/simple/\n",
            "Requirement already satisfied: nltk in /usr/local/lib/python3.10/dist-packages (3.8.1)\n",
            "Requirement already satisfied: click in /usr/local/lib/python3.10/dist-packages (from nltk) (8.1.3)\n",
            "Requirement already satisfied: joblib in /usr/local/lib/python3.10/dist-packages (from nltk) (1.2.0)\n",
            "Requirement already satisfied: regex>=2021.8.3 in /usr/local/lib/python3.10/dist-packages (from nltk) (2022.10.31)\n",
            "Requirement already satisfied: tqdm in /usr/local/lib/python3.10/dist-packages (from nltk) (4.65.0)\n"
          ]
        }
      ],
      "source": [
        "!pip install nltk"
      ]
    },
    {
      "cell_type": "code",
      "source": [
        "corpus =\"\"\"\n",
        " Indian Prime Minister Narendra Modi struck new agreements Wednesday with his Australian counterpart Anthony Albanese on migration and green hydrogen, while raising concerns about attacks on Hindu temples in Sydney.\n",
        "Modi was welcomed Tuesday by around 20,000 cheering fans, many chanting “Modi,” at a Sydney stadium for his second visit to Australia as India’s leader.\n",
        "But his visit has also been protested by activists who accuse his government of restricting Muslim and other minorities’ rights, as well as press freedom. Anti-Modi posters appeared around Sydney, and Hindu temples in Sydney's west were recently vandalized. Sikhs have also used the visit to demand a separate state.We will not accept any elements that harm the friendly and warm ties between India and Australia by their actions or thoughts,” Modi told reporters through an interpreter in a joint press conference with Albanese. Neither leader took questions.\n",
        "The Indian diaspora accounts for only 3% of Australia’s population but is the nation’s fastest growing ethnic minority. Modi described the diaspora as the real strength in the growing bilateral relationship.\n",
        "Modi is the only leader of the Quad nations to continue with his scheduled visit to Australia after U.S. President Joe Biden pulled out of a planned meeting of the group in Sydney to return to Washington to focus on debt limit talks. Japanese Prime Minister Fumio Kishida, who hosted a Group of Seven summit last week, later canceled his Australia trip as well.\n",
        "Modi arrived Monday night in Sydney from Papua New Guinea, where he hosted a meeting with Pacific Island leaders to discuss ways to better cooperate.\n",
        "Modi and Albanese’s meeting Wednesday “reinforced their commitment to an open, prosperous and secure” Indo-Pacific region, the Australian prime minister’s office said in a statement.\n",
        "Modi, a Hindu, said he had raised the issue of attacks on temples with Albanese, who assured him that authorities would take “strict actions” against the culprits.\n",
        "\"\"\""
      ],
      "metadata": {
        "id": "P6PQJ0SZbIsN"
      },
      "execution_count": 2,
      "outputs": []
    },
    {
      "cell_type": "code",
      "source": [
        "corpus"
      ],
      "metadata": {
        "colab": {
          "base_uri": "https://localhost:8080/",
          "height": 140
        },
        "id": "Qisk32oKbqbg",
        "outputId": "e173c1b7-e8a9-4a78-d53f-2d42c74fe3c9"
      },
      "execution_count": 3,
      "outputs": [
        {
          "output_type": "execute_result",
          "data": {
            "text/plain": [
              "\"\\n Indian Prime Minister Narendra Modi struck new agreements Wednesday with his Australian counterpart Anthony Albanese on migration and green hydrogen, while raising concerns about attacks on Hindu temples in Sydney.\\nModi was welcomed Tuesday by around 20,000 cheering fans, many chanting “Modi,” at a Sydney stadium for his second visit to Australia as India’s leader.\\nBut his visit has also been protested by activists who accuse his government of restricting Muslim and other minorities’ rights, as well as press freedom. Anti-Modi posters appeared around Sydney, and Hindu temples in Sydney's west were recently vandalized. Sikhs have also used the visit to demand a separate state.We will not accept any elements that harm the friendly and warm ties between India and Australia by their actions or thoughts,” Modi told reporters through an interpreter in a joint press conference with Albanese. Neither leader took questions.\\nThe Indian diaspora accounts for only 3% of Australia’s population but is the nation’s fastest growing ethnic minority. Modi described the diaspora as the real strength in the growing bilateral relationship.\\nModi is the only leader of the Quad nations to continue with his scheduled visit to Australia after U.S. President Joe Biden pulled out of a planned meeting of the group in Sydney to return to Washington to focus on debt limit talks. Japanese Prime Minister Fumio Kishida, who hosted a Group of Seven summit last week, later canceled his Australia trip as well.\\nModi arrived Monday night in Sydney from Papua New Guinea, where he hosted a meeting with Pacific Island leaders to discuss ways to better cooperate.\\nModi and Albanese’s meeting Wednesday “reinforced their commitment to an open, prosperous and secure” Indo-Pacific region, the Australian prime minister’s office said in a statement.\\nModi, a Hindu, said he had raised the issue of attacks on temples with Albanese, who assured him that authorities would take “strict actions” against the culprits.\\n\""
            ],
            "application/vnd.google.colaboratory.intrinsic+json": {
              "type": "string"
            }
          },
          "metadata": {},
          "execution_count": 3
        }
      ]
    },
    {
      "cell_type": "code",
      "source": [
        "import nltk\n",
        "from nltk.stem import PorterStemmer\n",
        "from nltk.corpus import stopwords"
      ],
      "metadata": {
        "id": "9ZDmiKDkb-g7"
      },
      "execution_count": 4,
      "outputs": []
    },
    {
      "cell_type": "code",
      "source": [
        "## tokenization -- convert paragraph to sentences \n",
        "nltk.download('punkt')\n",
        "senten = nltk.sent_tokenize(corpus)"
      ],
      "metadata": {
        "colab": {
          "base_uri": "https://localhost:8080/"
        },
        "id": "D4jvuyAVcQdY",
        "outputId": "bb37fa2a-a5e8-46e8-8719-4273b04760d0"
      },
      "execution_count": 5,
      "outputs": [
        {
          "output_type": "stream",
          "name": "stderr",
          "text": [
            "[nltk_data] Downloading package punkt to /root/nltk_data...\n",
            "[nltk_data]   Unzipping tokenizers/punkt.zip.\n"
          ]
        }
      ]
    },
    {
      "cell_type": "code",
      "source": [
        "senten"
      ],
      "metadata": {
        "colab": {
          "base_uri": "https://localhost:8080/"
        },
        "id": "qpZ9nqF9ckot",
        "outputId": "01402e4a-083a-46a3-d1f0-fc6254959be5"
      },
      "execution_count": 6,
      "outputs": [
        {
          "output_type": "execute_result",
          "data": {
            "text/plain": [
              "['\\n Indian Prime Minister Narendra Modi struck new agreements Wednesday with his Australian counterpart Anthony Albanese on migration and green hydrogen, while raising concerns about attacks on Hindu temples in Sydney.',\n",
              " 'Modi was welcomed Tuesday by around 20,000 cheering fans, many chanting “Modi,” at a Sydney stadium for his second visit to Australia as India’s leader.',\n",
              " 'But his visit has also been protested by activists who accuse his government of restricting Muslim and other minorities’ rights, as well as press freedom.',\n",
              " \"Anti-Modi posters appeared around Sydney, and Hindu temples in Sydney's west were recently vandalized.\",\n",
              " 'Sikhs have also used the visit to demand a separate state.We will not accept any elements that harm the friendly and warm ties between India and Australia by their actions or thoughts,” Modi told reporters through an interpreter in a joint press conference with Albanese.',\n",
              " 'Neither leader took questions.',\n",
              " 'The Indian diaspora accounts for only 3% of Australia’s population but is the nation’s fastest growing ethnic minority.',\n",
              " 'Modi described the diaspora as the real strength in the growing bilateral relationship.',\n",
              " 'Modi is the only leader of the Quad nations to continue with his scheduled visit to Australia after U.S. President Joe Biden pulled out of a planned meeting of the group in Sydney to return to Washington to focus on debt limit talks.',\n",
              " 'Japanese Prime Minister Fumio Kishida, who hosted a Group of Seven summit last week, later canceled his Australia trip as well.',\n",
              " 'Modi arrived Monday night in Sydney from Papua New Guinea, where he hosted a meeting with Pacific Island leaders to discuss ways to better cooperate.',\n",
              " 'Modi and Albanese’s meeting Wednesday “reinforced their commitment to an open, prosperous and secure” Indo-Pacific region, the Australian prime minister’s office said in a statement.',\n",
              " 'Modi, a Hindu, said he had raised the issue of attacks on temples with Albanese, who assured him that authorities would take “strict actions” against the culprits.']"
            ]
          },
          "metadata": {},
          "execution_count": 6
        }
      ]
    },
    {
      "cell_type": "code",
      "source": [
        "stemmer = PorterStemmer()"
      ],
      "metadata": {
        "id": "cUBINuSccuaT"
      },
      "execution_count": 7,
      "outputs": []
    },
    {
      "cell_type": "code",
      "source": [
        "stemmer.stem('thinking')"
      ],
      "metadata": {
        "colab": {
          "base_uri": "https://localhost:8080/",
          "height": 35
        },
        "id": "B_d1qUPHc-b0",
        "outputId": "5e472d87-ff30-4e7f-bb3d-c4c003ee0140"
      },
      "execution_count": 8,
      "outputs": [
        {
          "output_type": "execute_result",
          "data": {
            "text/plain": [
              "'think'"
            ],
            "application/vnd.google.colaboratory.intrinsic+json": {
              "type": "string"
            }
          },
          "metadata": {},
          "execution_count": 8
        }
      ]
    },
    {
      "cell_type": "code",
      "source": [
        "stemmer.stem('histrical')"
      ],
      "metadata": {
        "colab": {
          "base_uri": "https://localhost:8080/",
          "height": 35
        },
        "id": "_EmqnaFBdC8T",
        "outputId": "120d3c36-82ac-43e0-8c42-bf49a894a09d"
      },
      "execution_count": 9,
      "outputs": [
        {
          "output_type": "execute_result",
          "data": {
            "text/plain": [
              "'histric'"
            ],
            "application/vnd.google.colaboratory.intrinsic+json": {
              "type": "string"
            }
          },
          "metadata": {},
          "execution_count": 9
        }
      ]
    },
    {
      "cell_type": "code",
      "source": [
        "from nltk.stem import WordNetLemmatizer"
      ],
      "metadata": {
        "id": "tehgjznrdLrG"
      },
      "execution_count": 10,
      "outputs": []
    },
    {
      "cell_type": "code",
      "source": [
        "lemmatizer=WordNetLemmatizer()"
      ],
      "metadata": {
        "id": "EcNAXGYIdWUb"
      },
      "execution_count": 11,
      "outputs": []
    },
    {
      "cell_type": "code",
      "source": [
        "## Clean the entire paraghraph\n",
        "\n",
        "import re\n",
        "\n",
        "new_corp =[]\n",
        "for i in range(len(senten)):\n",
        "  review = re.sub('[^a-zA-Z]',' ',senten[i])\n",
        "  review=review.lower()\n",
        "  new_corp.append(review)"
      ],
      "metadata": {
        "id": "Wa1JF-oCddqQ"
      },
      "execution_count": 12,
      "outputs": []
    },
    {
      "cell_type": "code",
      "source": [
        "new_corp"
      ],
      "metadata": {
        "colab": {
          "base_uri": "https://localhost:8080/"
        },
        "id": "Ssdgh_bKeqmM",
        "outputId": "7e07c139-1056-4bb3-8cfa-503700280c31"
      },
      "execution_count": 13,
      "outputs": [
        {
          "output_type": "execute_result",
          "data": {
            "text/plain": [
              "['  indian prime minister narendra modi struck new agreements wednesday with his australian counterpart anthony albanese on migration and green hydrogen  while raising concerns about attacks on hindu temples in sydney ',\n",
              " 'modi was welcomed tuesday by around        cheering fans  many chanting  modi   at a sydney stadium for his second visit to australia as india s leader ',\n",
              " 'but his visit has also been protested by activists who accuse his government of restricting muslim and other minorities  rights  as well as press freedom ',\n",
              " 'anti modi posters appeared around sydney  and hindu temples in sydney s west were recently vandalized ',\n",
              " 'sikhs have also used the visit to demand a separate state we will not accept any elements that harm the friendly and warm ties between india and australia by their actions or thoughts   modi told reporters through an interpreter in a joint press conference with albanese ',\n",
              " 'neither leader took questions ',\n",
              " 'the indian diaspora accounts for only    of australia s population but is the nation s fastest growing ethnic minority ',\n",
              " 'modi described the diaspora as the real strength in the growing bilateral relationship ',\n",
              " 'modi is the only leader of the quad nations to continue with his scheduled visit to australia after u s  president joe biden pulled out of a planned meeting of the group in sydney to return to washington to focus on debt limit talks ',\n",
              " 'japanese prime minister fumio kishida  who hosted a group of seven summit last week  later canceled his australia trip as well ',\n",
              " 'modi arrived monday night in sydney from papua new guinea  where he hosted a meeting with pacific island leaders to discuss ways to better cooperate ',\n",
              " 'modi and albanese s meeting wednesday  reinforced their commitment to an open  prosperous and secure  indo pacific region  the australian prime minister s office said in a statement ',\n",
              " 'modi  a hindu  said he had raised the issue of attacks on temples with albanese  who assured him that authorities would take  strict actions  against the culprits ']"
            ]
          },
          "metadata": {},
          "execution_count": 13
        }
      ]
    },
    {
      "cell_type": "code",
      "source": [
        "import nltk\n",
        "nltk.download('stopwords')\n",
        "stopwords.words('english')"
      ],
      "metadata": {
        "colab": {
          "base_uri": "https://localhost:8080/"
        },
        "id": "8gXB7ftZfsdC",
        "outputId": "92543b4f-7e9f-4968-c6dc-fc7e25b38379"
      },
      "execution_count": 14,
      "outputs": [
        {
          "output_type": "stream",
          "name": "stderr",
          "text": [
            "[nltk_data] Downloading package stopwords to /root/nltk_data...\n",
            "[nltk_data]   Unzipping corpora/stopwords.zip.\n"
          ]
        },
        {
          "output_type": "execute_result",
          "data": {
            "text/plain": [
              "['i',\n",
              " 'me',\n",
              " 'my',\n",
              " 'myself',\n",
              " 'we',\n",
              " 'our',\n",
              " 'ours',\n",
              " 'ourselves',\n",
              " 'you',\n",
              " \"you're\",\n",
              " \"you've\",\n",
              " \"you'll\",\n",
              " \"you'd\",\n",
              " 'your',\n",
              " 'yours',\n",
              " 'yourself',\n",
              " 'yourselves',\n",
              " 'he',\n",
              " 'him',\n",
              " 'his',\n",
              " 'himself',\n",
              " 'she',\n",
              " \"she's\",\n",
              " 'her',\n",
              " 'hers',\n",
              " 'herself',\n",
              " 'it',\n",
              " \"it's\",\n",
              " 'its',\n",
              " 'itself',\n",
              " 'they',\n",
              " 'them',\n",
              " 'their',\n",
              " 'theirs',\n",
              " 'themselves',\n",
              " 'what',\n",
              " 'which',\n",
              " 'who',\n",
              " 'whom',\n",
              " 'this',\n",
              " 'that',\n",
              " \"that'll\",\n",
              " 'these',\n",
              " 'those',\n",
              " 'am',\n",
              " 'is',\n",
              " 'are',\n",
              " 'was',\n",
              " 'were',\n",
              " 'be',\n",
              " 'been',\n",
              " 'being',\n",
              " 'have',\n",
              " 'has',\n",
              " 'had',\n",
              " 'having',\n",
              " 'do',\n",
              " 'does',\n",
              " 'did',\n",
              " 'doing',\n",
              " 'a',\n",
              " 'an',\n",
              " 'the',\n",
              " 'and',\n",
              " 'but',\n",
              " 'if',\n",
              " 'or',\n",
              " 'because',\n",
              " 'as',\n",
              " 'until',\n",
              " 'while',\n",
              " 'of',\n",
              " 'at',\n",
              " 'by',\n",
              " 'for',\n",
              " 'with',\n",
              " 'about',\n",
              " 'against',\n",
              " 'between',\n",
              " 'into',\n",
              " 'through',\n",
              " 'during',\n",
              " 'before',\n",
              " 'after',\n",
              " 'above',\n",
              " 'below',\n",
              " 'to',\n",
              " 'from',\n",
              " 'up',\n",
              " 'down',\n",
              " 'in',\n",
              " 'out',\n",
              " 'on',\n",
              " 'off',\n",
              " 'over',\n",
              " 'under',\n",
              " 'again',\n",
              " 'further',\n",
              " 'then',\n",
              " 'once',\n",
              " 'here',\n",
              " 'there',\n",
              " 'when',\n",
              " 'where',\n",
              " 'why',\n",
              " 'how',\n",
              " 'all',\n",
              " 'any',\n",
              " 'both',\n",
              " 'each',\n",
              " 'few',\n",
              " 'more',\n",
              " 'most',\n",
              " 'other',\n",
              " 'some',\n",
              " 'such',\n",
              " 'no',\n",
              " 'nor',\n",
              " 'not',\n",
              " 'only',\n",
              " 'own',\n",
              " 'same',\n",
              " 'so',\n",
              " 'than',\n",
              " 'too',\n",
              " 'very',\n",
              " 's',\n",
              " 't',\n",
              " 'can',\n",
              " 'will',\n",
              " 'just',\n",
              " 'don',\n",
              " \"don't\",\n",
              " 'should',\n",
              " \"should've\",\n",
              " 'now',\n",
              " 'd',\n",
              " 'll',\n",
              " 'm',\n",
              " 'o',\n",
              " 're',\n",
              " 've',\n",
              " 'y',\n",
              " 'ain',\n",
              " 'aren',\n",
              " \"aren't\",\n",
              " 'couldn',\n",
              " \"couldn't\",\n",
              " 'didn',\n",
              " \"didn't\",\n",
              " 'doesn',\n",
              " \"doesn't\",\n",
              " 'hadn',\n",
              " \"hadn't\",\n",
              " 'hasn',\n",
              " \"hasn't\",\n",
              " 'haven',\n",
              " \"haven't\",\n",
              " 'isn',\n",
              " \"isn't\",\n",
              " 'ma',\n",
              " 'mightn',\n",
              " \"mightn't\",\n",
              " 'mustn',\n",
              " \"mustn't\",\n",
              " 'needn',\n",
              " \"needn't\",\n",
              " 'shan',\n",
              " \"shan't\",\n",
              " 'shouldn',\n",
              " \"shouldn't\",\n",
              " 'wasn',\n",
              " \"wasn't\",\n",
              " 'weren',\n",
              " \"weren't\",\n",
              " 'won',\n",
              " \"won't\",\n",
              " 'wouldn',\n",
              " \"wouldn't\"]"
            ]
          },
          "metadata": {},
          "execution_count": 14
        }
      ]
    },
    {
      "cell_type": "code",
      "source": [
        "## Aplly Stamming\n",
        "\n",
        "for i in new_corp:\n",
        "  words = nltk.word_tokenize(i)\n",
        "  for word in words:\n",
        "    if word not in set(stopwords.words('english')):\n",
        "      print(stemmer.stem(word))"
      ],
      "metadata": {
        "colab": {
          "base_uri": "https://localhost:8080/"
        },
        "id": "R3RPx-BEextk",
        "outputId": "467a1bda-b066-411a-9b6a-fd13c40bd52d"
      },
      "execution_count": 15,
      "outputs": [
        {
          "output_type": "stream",
          "name": "stdout",
          "text": [
            "indian\n",
            "prime\n",
            "minist\n",
            "narendra\n",
            "modi\n",
            "struck\n",
            "new\n",
            "agreement\n",
            "wednesday\n",
            "australian\n",
            "counterpart\n",
            "anthoni\n",
            "albanes\n",
            "migrat\n",
            "green\n",
            "hydrogen\n",
            "rais\n",
            "concern\n",
            "attack\n",
            "hindu\n",
            "templ\n",
            "sydney\n",
            "modi\n",
            "welcom\n",
            "tuesday\n",
            "around\n",
            "cheer\n",
            "fan\n",
            "mani\n",
            "chant\n",
            "modi\n",
            "sydney\n",
            "stadium\n",
            "second\n",
            "visit\n",
            "australia\n",
            "india\n",
            "leader\n",
            "visit\n",
            "also\n",
            "protest\n",
            "activist\n",
            "accus\n",
            "govern\n",
            "restrict\n",
            "muslim\n",
            "minor\n",
            "right\n",
            "well\n",
            "press\n",
            "freedom\n",
            "anti\n",
            "modi\n",
            "poster\n",
            "appear\n",
            "around\n",
            "sydney\n",
            "hindu\n",
            "templ\n",
            "sydney\n",
            "west\n",
            "recent\n",
            "vandal\n",
            "sikh\n",
            "also\n",
            "use\n",
            "visit\n",
            "demand\n",
            "separ\n",
            "state\n",
            "accept\n",
            "element\n",
            "harm\n",
            "friendli\n",
            "warm\n",
            "tie\n",
            "india\n",
            "australia\n",
            "action\n",
            "thought\n",
            "modi\n",
            "told\n",
            "report\n",
            "interpret\n",
            "joint\n",
            "press\n",
            "confer\n",
            "albanes\n",
            "neither\n",
            "leader\n",
            "took\n",
            "question\n",
            "indian\n",
            "diaspora\n",
            "account\n",
            "australia\n",
            "popul\n",
            "nation\n",
            "fastest\n",
            "grow\n",
            "ethnic\n",
            "minor\n",
            "modi\n",
            "describ\n",
            "diaspora\n",
            "real\n",
            "strength\n",
            "grow\n",
            "bilater\n",
            "relationship\n",
            "modi\n",
            "leader\n",
            "quad\n",
            "nation\n",
            "continu\n",
            "schedul\n",
            "visit\n",
            "australia\n",
            "u\n",
            "presid\n",
            "joe\n",
            "biden\n",
            "pull\n",
            "plan\n",
            "meet\n",
            "group\n",
            "sydney\n",
            "return\n",
            "washington\n",
            "focu\n",
            "debt\n",
            "limit\n",
            "talk\n",
            "japanes\n",
            "prime\n",
            "minist\n",
            "fumio\n",
            "kishida\n",
            "host\n",
            "group\n",
            "seven\n",
            "summit\n",
            "last\n",
            "week\n",
            "later\n",
            "cancel\n",
            "australia\n",
            "trip\n",
            "well\n",
            "modi\n",
            "arriv\n",
            "monday\n",
            "night\n",
            "sydney\n",
            "papua\n",
            "new\n",
            "guinea\n",
            "host\n",
            "meet\n",
            "pacif\n",
            "island\n",
            "leader\n",
            "discuss\n",
            "way\n",
            "better\n",
            "cooper\n",
            "modi\n",
            "albanes\n",
            "meet\n",
            "wednesday\n",
            "reinforc\n",
            "commit\n",
            "open\n",
            "prosper\n",
            "secur\n",
            "indo\n",
            "pacif\n",
            "region\n",
            "australian\n",
            "prime\n",
            "minist\n",
            "offic\n",
            "said\n",
            "statement\n",
            "modi\n",
            "hindu\n",
            "said\n",
            "rais\n",
            "issu\n",
            "attack\n",
            "templ\n",
            "albanes\n",
            "assur\n",
            "author\n",
            "would\n",
            "take\n",
            "strict\n",
            "action\n",
            "culprit\n"
          ]
        }
      ]
    },
    {
      "cell_type": "code",
      "source": [
        "import nltk\n",
        "nltk.download('wordnet')"
      ],
      "metadata": {
        "colab": {
          "base_uri": "https://localhost:8080/"
        },
        "id": "ttBwWXE5_YlK",
        "outputId": "345abcce-148f-4b92-de2f-16a8add41353"
      },
      "execution_count": 16,
      "outputs": [
        {
          "output_type": "stream",
          "name": "stderr",
          "text": [
            "[nltk_data] Downloading package wordnet to /root/nltk_data...\n"
          ]
        },
        {
          "output_type": "execute_result",
          "data": {
            "text/plain": [
              "True"
            ]
          },
          "metadata": {},
          "execution_count": 16
        }
      ]
    },
    {
      "cell_type": "code",
      "source": [
        "## Aplly Lemmatization\n",
        "\n",
        "for i in new_corp:\n",
        "  words = nltk.word_tokenize(i)\n",
        "  for word in words:\n",
        "    if word not in set(stopwords.words('english')):\n",
        "      print(lemmatizer.lemmatize(word))"
      ],
      "metadata": {
        "colab": {
          "base_uri": "https://localhost:8080/"
        },
        "id": "J1bouHNUgDv-",
        "outputId": "49a358a5-2976-4437-dbda-e87f152e18f3"
      },
      "execution_count": 17,
      "outputs": [
        {
          "output_type": "stream",
          "name": "stdout",
          "text": [
            "indian\n",
            "prime\n",
            "minister\n",
            "narendra\n",
            "modi\n",
            "struck\n",
            "new\n",
            "agreement\n",
            "wednesday\n",
            "australian\n",
            "counterpart\n",
            "anthony\n",
            "albanese\n",
            "migration\n",
            "green\n",
            "hydrogen\n",
            "raising\n",
            "concern\n",
            "attack\n",
            "hindu\n",
            "temple\n",
            "sydney\n",
            "modi\n",
            "welcomed\n",
            "tuesday\n",
            "around\n",
            "cheering\n",
            "fan\n",
            "many\n",
            "chanting\n",
            "modi\n",
            "sydney\n",
            "stadium\n",
            "second\n",
            "visit\n",
            "australia\n",
            "india\n",
            "leader\n",
            "visit\n",
            "also\n",
            "protested\n",
            "activist\n",
            "accuse\n",
            "government\n",
            "restricting\n",
            "muslim\n",
            "minority\n",
            "right\n",
            "well\n",
            "press\n",
            "freedom\n",
            "anti\n",
            "modi\n",
            "poster\n",
            "appeared\n",
            "around\n",
            "sydney\n",
            "hindu\n",
            "temple\n",
            "sydney\n",
            "west\n",
            "recently\n",
            "vandalized\n",
            "sikh\n",
            "also\n",
            "used\n",
            "visit\n",
            "demand\n",
            "separate\n",
            "state\n",
            "accept\n",
            "element\n",
            "harm\n",
            "friendly\n",
            "warm\n",
            "tie\n",
            "india\n",
            "australia\n",
            "action\n",
            "thought\n",
            "modi\n",
            "told\n",
            "reporter\n",
            "interpreter\n",
            "joint\n",
            "press\n",
            "conference\n",
            "albanese\n",
            "neither\n",
            "leader\n",
            "took\n",
            "question\n",
            "indian\n",
            "diaspora\n",
            "account\n",
            "australia\n",
            "population\n",
            "nation\n",
            "fastest\n",
            "growing\n",
            "ethnic\n",
            "minority\n",
            "modi\n",
            "described\n",
            "diaspora\n",
            "real\n",
            "strength\n",
            "growing\n",
            "bilateral\n",
            "relationship\n",
            "modi\n",
            "leader\n",
            "quad\n",
            "nation\n",
            "continue\n",
            "scheduled\n",
            "visit\n",
            "australia\n",
            "u\n",
            "president\n",
            "joe\n",
            "biden\n",
            "pulled\n",
            "planned\n",
            "meeting\n",
            "group\n",
            "sydney\n",
            "return\n",
            "washington\n",
            "focus\n",
            "debt\n",
            "limit\n",
            "talk\n",
            "japanese\n",
            "prime\n",
            "minister\n",
            "fumio\n",
            "kishida\n",
            "hosted\n",
            "group\n",
            "seven\n",
            "summit\n",
            "last\n",
            "week\n",
            "later\n",
            "canceled\n",
            "australia\n",
            "trip\n",
            "well\n",
            "modi\n",
            "arrived\n",
            "monday\n",
            "night\n",
            "sydney\n",
            "papua\n",
            "new\n",
            "guinea\n",
            "hosted\n",
            "meeting\n",
            "pacific\n",
            "island\n",
            "leader\n",
            "discus\n",
            "way\n",
            "better\n",
            "cooperate\n",
            "modi\n",
            "albanese\n",
            "meeting\n",
            "wednesday\n",
            "reinforced\n",
            "commitment\n",
            "open\n",
            "prosperous\n",
            "secure\n",
            "indo\n",
            "pacific\n",
            "region\n",
            "australian\n",
            "prime\n",
            "minister\n",
            "office\n",
            "said\n",
            "statement\n",
            "modi\n",
            "hindu\n",
            "said\n",
            "raised\n",
            "issue\n",
            "attack\n",
            "temple\n",
            "albanese\n",
            "assured\n",
            "authority\n",
            "would\n",
            "take\n",
            "strict\n",
            "action\n",
            "culprit\n"
          ]
        }
      ]
    },
    {
      "cell_type": "code",
      "source": [
        "## Apply Stopwords, Lemmatize\n",
        "\n",
        "import re\n",
        "new_corp = []\n",
        "for i in range(len(senten)):\n",
        "  review = re.sub('[^a-zA-Z]',' ',senten[i])\n",
        "  review = review.lower()\n",
        "  review = review.split()\n",
        "  review = [lemmatizer.lemmatize(word) for word in review if not word in set(stopwords.words('english'))]\n",
        "  review = ' '.join(review)\n",
        "  new_corp.append(review)\n"
      ],
      "metadata": {
        "id": "vJE_BlIX_hjI"
      },
      "execution_count": 18,
      "outputs": []
    },
    {
      "cell_type": "code",
      "source": [
        "new_corp"
      ],
      "metadata": {
        "colab": {
          "base_uri": "https://localhost:8080/"
        },
        "id": "whBBGc2nAjr0",
        "outputId": "f176b275-491c-4daf-a92d-07943cfc8faf"
      },
      "execution_count": 19,
      "outputs": [
        {
          "output_type": "execute_result",
          "data": {
            "text/plain": [
              "['indian prime minister narendra modi struck new agreement wednesday australian counterpart anthony albanese migration green hydrogen raising concern attack hindu temple sydney',\n",
              " 'modi welcomed tuesday around cheering fan many chanting modi sydney stadium second visit australia india leader',\n",
              " 'visit also protested activist accuse government restricting muslim minority right well press freedom',\n",
              " 'anti modi poster appeared around sydney hindu temple sydney west recently vandalized',\n",
              " 'sikh also used visit demand separate state accept element harm friendly warm tie india australia action thought modi told reporter interpreter joint press conference albanese',\n",
              " 'neither leader took question',\n",
              " 'indian diaspora account australia population nation fastest growing ethnic minority',\n",
              " 'modi described diaspora real strength growing bilateral relationship',\n",
              " 'modi leader quad nation continue scheduled visit australia u president joe biden pulled planned meeting group sydney return washington focus debt limit talk',\n",
              " 'japanese prime minister fumio kishida hosted group seven summit last week later canceled australia trip well',\n",
              " 'modi arrived monday night sydney papua new guinea hosted meeting pacific island leader discus way better cooperate',\n",
              " 'modi albanese meeting wednesday reinforced commitment open prosperous secure indo pacific region australian prime minister office said statement',\n",
              " 'modi hindu said raised issue attack temple albanese assured authority would take strict action culprit']"
            ]
          },
          "metadata": {},
          "execution_count": 19
        }
      ]
    },
    {
      "cell_type": "code",
      "source": [
        "# Bag of Words\n",
        "from sklearn.feature_extraction.text import CountVectorizer\n",
        "cv = CountVectorizer(binary=True,ngram_range=(2,3))"
      ],
      "metadata": {
        "id": "UNepQu0_gTkN"
      },
      "execution_count": 20,
      "outputs": []
    },
    {
      "cell_type": "code",
      "source": [
        "X=cv.fit(new_corp)\n"
      ],
      "metadata": {
        "id": "xTo-Y7k-ggRI"
      },
      "execution_count": 21,
      "outputs": []
    },
    {
      "cell_type": "code",
      "source": [
        "cv.vocabulary_"
      ],
      "metadata": {
        "colab": {
          "base_uri": "https://localhost:8080/"
        },
        "id": "nqVt5I6UgoKt",
        "outputId": "e9c1d625-5621-4314-f1f3-d56c2cb5e337"
      },
      "execution_count": 22,
      "outputs": [
        {
          "output_type": "execute_result",
          "data": {
            "text/plain": [
              "{'indian prime': 132,\n",
              " 'prime minister': 238,\n",
              " 'minister narendra': 173,\n",
              " 'narendra modi': 203,\n",
              " 'modi struck': 191,\n",
              " 'struck new': 292,\n",
              " 'new agreement': 211,\n",
              " 'agreement wednesday': 11,\n",
              " 'wednesday australian': 337,\n",
              " 'australian counterpart': 51,\n",
              " 'counterpart anthony': 74,\n",
              " 'anthony albanese': 23,\n",
              " 'albanese migration': 17,\n",
              " 'migration green': 169,\n",
              " 'green hydrogen': 103,\n",
              " 'hydrogen raising': 125,\n",
              " 'raising concern': 252,\n",
              " 'concern attack': 69,\n",
              " 'attack hindu': 37,\n",
              " 'hindu temple': 119,\n",
              " 'temple sydney': 310,\n",
              " 'indian prime minister': 133,\n",
              " 'prime minister narendra': 240,\n",
              " 'minister narendra modi': 174,\n",
              " 'narendra modi struck': 204,\n",
              " 'modi struck new': 192,\n",
              " 'struck new agreement': 293,\n",
              " 'new agreement wednesday': 212,\n",
              " 'agreement wednesday australian': 12,\n",
              " 'wednesday australian counterpart': 338,\n",
              " 'australian counterpart anthony': 52,\n",
              " 'counterpart anthony albanese': 75,\n",
              " 'anthony albanese migration': 24,\n",
              " 'albanese migration green': 18,\n",
              " 'migration green hydrogen': 170,\n",
              " 'green hydrogen raising': 104,\n",
              " 'hydrogen raising concern': 126,\n",
              " 'raising concern attack': 253,\n",
              " 'concern attack hindu': 70,\n",
              " 'attack hindu temple': 38,\n",
              " 'hindu temple sydney': 120,\n",
              " 'modi welcomed': 197,\n",
              " 'welcomed tuesday': 343,\n",
              " 'tuesday around': 320,\n",
              " 'around cheering': 29,\n",
              " 'cheering fan': 65,\n",
              " 'fan many': 91,\n",
              " 'many chanting': 161,\n",
              " 'chanting modi': 63,\n",
              " 'modi sydney': 193,\n",
              " 'sydney stadium': 302,\n",
              " 'stadium second': 284,\n",
              " 'second visit': 274,\n",
              " 'visit australia': 326,\n",
              " 'australia india': 43,\n",
              " 'india leader': 129,\n",
              " 'modi welcomed tuesday': 198,\n",
              " 'welcomed tuesday around': 344,\n",
              " 'tuesday around cheering': 321,\n",
              " 'around cheering fan': 30,\n",
              " 'cheering fan many': 66,\n",
              " 'fan many chanting': 92,\n",
              " 'many chanting modi': 162,\n",
              " 'chanting modi sydney': 64,\n",
              " 'modi sydney stadium': 194,\n",
              " 'sydney stadium second': 303,\n",
              " 'stadium second visit': 285,\n",
              " 'second visit australia': 275,\n",
              " 'visit australia india': 327,\n",
              " 'australia india leader': 44,\n",
              " 'visit also': 324,\n",
              " 'also protested': 19,\n",
              " 'protested activist': 244,\n",
              " 'activist accuse': 9,\n",
              " 'accuse government': 4,\n",
              " 'government restricting': 101,\n",
              " 'restricting muslim': 263,\n",
              " 'muslim minority': 201,\n",
              " 'minority right': 177,\n",
              " 'right well': 267,\n",
              " 'well press': 345,\n",
              " 'press freedom': 237,\n",
              " 'visit also protested': 325,\n",
              " 'also protested activist': 20,\n",
              " 'protested activist accuse': 245,\n",
              " 'activist accuse government': 10,\n",
              " 'accuse government restricting': 5,\n",
              " 'government restricting muslim': 102,\n",
              " 'restricting muslim minority': 264,\n",
              " 'muslim minority right': 202,\n",
              " 'minority right well': 178,\n",
              " 'right well press': 268,\n",
              " 'well press freedom': 346,\n",
              " 'anti modi': 25,\n",
              " 'modi poster': 189,\n",
              " 'poster appeared': 231,\n",
              " 'appeared around': 27,\n",
              " 'around sydney': 31,\n",
              " 'sydney hindu': 296,\n",
              " 'sydney west': 304,\n",
              " 'west recently': 347,\n",
              " 'recently vandalized': 256,\n",
              " 'anti modi poster': 26,\n",
              " 'modi poster appeared': 190,\n",
              " 'poster appeared around': 232,\n",
              " 'appeared around sydney': 28,\n",
              " 'around sydney hindu': 32,\n",
              " 'sydney hindu temple': 297,\n",
              " 'temple sydney west': 311,\n",
              " 'sydney west recently': 305,\n",
              " 'west recently vandalized': 348,\n",
              " 'sikh also': 282,\n",
              " 'also used': 21,\n",
              " 'used visit': 322,\n",
              " 'visit demand': 329,\n",
              " 'demand separate': 78,\n",
              " 'separate state': 278,\n",
              " 'state accept': 286,\n",
              " 'accept element': 0,\n",
              " 'element harm': 88,\n",
              " 'harm friendly': 115,\n",
              " 'friendly warm': 97,\n",
              " 'warm tie': 331,\n",
              " 'tie india': 314,\n",
              " 'india australia': 127,\n",
              " 'australia action': 41,\n",
              " 'action thought': 7,\n",
              " 'thought modi': 312,\n",
              " 'modi told': 195,\n",
              " 'told reporter': 316,\n",
              " 'reporter interpreter': 261,\n",
              " 'interpreter joint': 136,\n",
              " 'joint press': 146,\n",
              " 'press conference': 235,\n",
              " 'conference albanese': 71,\n",
              " 'sikh also used': 283,\n",
              " 'also used visit': 22,\n",
              " 'used visit demand': 323,\n",
              " 'visit demand separate': 330,\n",
              " 'demand separate state': 79,\n",
              " 'separate state accept': 279,\n",
              " 'state accept element': 287,\n",
              " 'accept element harm': 1,\n",
              " 'element harm friendly': 89,\n",
              " 'harm friendly warm': 116,\n",
              " 'friendly warm tie': 98,\n",
              " 'warm tie india': 332,\n",
              " 'tie india australia': 315,\n",
              " 'india australia action': 128,\n",
              " 'australia action thought': 42,\n",
              " 'action thought modi': 8,\n",
              " 'thought modi told': 313,\n",
              " 'modi told reporter': 196,\n",
              " 'told reporter interpreter': 317,\n",
              " 'reporter interpreter joint': 262,\n",
              " 'interpreter joint press': 137,\n",
              " 'joint press conference': 147,\n",
              " 'press conference albanese': 236,\n",
              " 'neither leader': 209,\n",
              " 'leader took': 158,\n",
              " 'took question': 318,\n",
              " 'neither leader took': 210,\n",
              " 'leader took question': 159,\n",
              " 'indian diaspora': 130,\n",
              " 'diaspora account': 82,\n",
              " 'account australia': 2,\n",
              " 'australia population': 45,\n",
              " 'population nation': 229,\n",
              " 'nation fastest': 207,\n",
              " 'fastest growing': 93,\n",
              " 'growing ethnic': 111,\n",
              " 'ethnic minority': 90,\n",
              " 'indian diaspora account': 131,\n",
              " 'diaspora account australia': 83,\n",
              " 'account australia population': 3,\n",
              " 'australia population nation': 46,\n",
              " 'population nation fastest': 230,\n",
              " 'nation fastest growing': 208,\n",
              " 'fastest growing ethnic': 94,\n",
              " 'growing ethnic minority': 112,\n",
              " 'modi described': 183,\n",
              " 'described diaspora': 80,\n",
              " 'diaspora real': 84,\n",
              " 'real strength': 254,\n",
              " 'strength growing': 288,\n",
              " 'growing bilateral': 109,\n",
              " 'bilateral relationship': 60,\n",
              " 'modi described diaspora': 184,\n",
              " 'described diaspora real': 81,\n",
              " 'diaspora real strength': 85,\n",
              " 'real strength growing': 255,\n",
              " 'strength growing bilateral': 289,\n",
              " 'growing bilateral relationship': 110,\n",
              " 'modi leader': 187,\n",
              " 'leader quad': 156,\n",
              " 'quad nation': 248,\n",
              " 'nation continue': 205,\n",
              " 'continue scheduled': 72,\n",
              " 'scheduled visit': 272,\n",
              " 'australia president': 47,\n",
              " 'president joe': 233,\n",
              " 'joe biden': 144,\n",
              " 'biden pulled': 58,\n",
              " 'pulled planned': 246,\n",
              " 'planned meeting': 227,\n",
              " 'meeting group': 163,\n",
              " 'group sydney': 107,\n",
              " 'sydney return': 300,\n",
              " 'return washington': 265,\n",
              " 'washington focus': 333,\n",
              " 'focus debt': 95,\n",
              " 'debt limit': 76,\n",
              " 'limit talk': 160,\n",
              " 'modi leader quad': 188,\n",
              " 'leader quad nation': 157,\n",
              " 'quad nation continue': 249,\n",
              " 'nation continue scheduled': 206,\n",
              " 'continue scheduled visit': 73,\n",
              " 'scheduled visit australia': 273,\n",
              " 'visit australia president': 328,\n",
              " 'australia president joe': 48,\n",
              " 'president joe biden': 234,\n",
              " 'joe biden pulled': 145,\n",
              " 'biden pulled planned': 59,\n",
              " 'pulled planned meeting': 247,\n",
              " 'planned meeting group': 228,\n",
              " 'meeting group sydney': 164,\n",
              " 'group sydney return': 108,\n",
              " 'sydney return washington': 301,\n",
              " 'return washington focus': 266,\n",
              " 'washington focus debt': 334,\n",
              " 'focus debt limit': 96,\n",
              " 'debt limit talk': 77,\n",
              " 'japanese prime': 142,\n",
              " 'minister fumio': 171,\n",
              " 'fumio kishida': 99,\n",
              " 'kishida hosted': 148,\n",
              " 'hosted group': 121,\n",
              " 'group seven': 105,\n",
              " 'seven summit': 280,\n",
              " 'summit last': 294,\n",
              " 'last week': 150,\n",
              " 'week later': 341,\n",
              " 'later canceled': 152,\n",
              " 'canceled australia': 61,\n",
              " 'australia trip': 49,\n",
              " 'trip well': 319,\n",
              " 'japanese prime minister': 143,\n",
              " 'prime minister fumio': 239,\n",
              " 'minister fumio kishida': 172,\n",
              " 'fumio kishida hosted': 100,\n",
              " 'kishida hosted group': 149,\n",
              " 'hosted group seven': 122,\n",
              " 'group seven summit': 106,\n",
              " 'seven summit last': 281,\n",
              " 'summit last week': 295,\n",
              " 'last week later': 151,\n",
              " 'week later canceled': 342,\n",
              " 'later canceled australia': 153,\n",
              " 'canceled australia trip': 62,\n",
              " 'australia trip well': 50,\n",
              " 'modi arrived': 181,\n",
              " 'arrived monday': 33,\n",
              " 'monday night': 199,\n",
              " 'night sydney': 215,\n",
              " 'sydney papua': 298,\n",
              " 'papua new': 225,\n",
              " 'new guinea': 213,\n",
              " 'guinea hosted': 113,\n",
              " 'hosted meeting': 123,\n",
              " 'meeting pacific': 165,\n",
              " 'pacific island': 221,\n",
              " 'island leader': 138,\n",
              " 'leader discus': 154,\n",
              " 'discus way': 86,\n",
              " 'way better': 335,\n",
              " 'better cooperate': 57,\n",
              " 'modi arrived monday': 182,\n",
              " 'arrived monday night': 34,\n",
              " 'monday night sydney': 200,\n",
              " 'night sydney papua': 216,\n",
              " 'sydney papua new': 299,\n",
              " 'papua new guinea': 226,\n",
              " 'new guinea hosted': 214,\n",
              " 'guinea hosted meeting': 114,\n",
              " 'hosted meeting pacific': 124,\n",
              " 'meeting pacific island': 166,\n",
              " 'pacific island leader': 222,\n",
              " 'island leader discus': 139,\n",
              " 'leader discus way': 155,\n",
              " 'discus way better': 87,\n",
              " 'way better cooperate': 336,\n",
              " 'modi albanese': 179,\n",
              " 'albanese meeting': 15,\n",
              " 'meeting wednesday': 167,\n",
              " 'wednesday reinforced': 339,\n",
              " 'reinforced commitment': 259,\n",
              " 'commitment open': 67,\n",
              " 'open prosperous': 219,\n",
              " 'prosperous secure': 242,\n",
              " 'secure indo': 276,\n",
              " 'indo pacific': 134,\n",
              " 'pacific region': 223,\n",
              " 'region australian': 257,\n",
              " 'australian prime': 53,\n",
              " 'minister office': 175,\n",
              " 'office said': 217,\n",
              " 'said statement': 271,\n",
              " 'modi albanese meeting': 180,\n",
              " 'albanese meeting wednesday': 16,\n",
              " 'meeting wednesday reinforced': 168,\n",
              " 'wednesday reinforced commitment': 340,\n",
              " 'reinforced commitment open': 260,\n",
              " 'commitment open prosperous': 68,\n",
              " 'open prosperous secure': 220,\n",
              " 'prosperous secure indo': 243,\n",
              " 'secure indo pacific': 277,\n",
              " 'indo pacific region': 135,\n",
              " 'pacific region australian': 224,\n",
              " 'region australian prime': 258,\n",
              " 'australian prime minister': 54,\n",
              " 'prime minister office': 241,\n",
              " 'minister office said': 176,\n",
              " 'office said statement': 218,\n",
              " 'modi hindu': 185,\n",
              " 'hindu said': 117,\n",
              " 'said raised': 269,\n",
              " 'raised issue': 250,\n",
              " 'issue attack': 140,\n",
              " 'attack temple': 39,\n",
              " 'temple albanese': 308,\n",
              " 'albanese assured': 13,\n",
              " 'assured authority': 35,\n",
              " 'authority would': 55,\n",
              " 'would take': 349,\n",
              " 'take strict': 306,\n",
              " 'strict action': 290,\n",
              " 'action culprit': 6,\n",
              " 'modi hindu said': 186,\n",
              " 'hindu said raised': 118,\n",
              " 'said raised issue': 270,\n",
              " 'raised issue attack': 251,\n",
              " 'issue attack temple': 141,\n",
              " 'attack temple albanese': 40,\n",
              " 'temple albanese assured': 309,\n",
              " 'albanese assured authority': 14,\n",
              " 'assured authority would': 36,\n",
              " 'authority would take': 56,\n",
              " 'would take strict': 350,\n",
              " 'take strict action': 307,\n",
              " 'strict action culprit': 291}"
            ]
          },
          "metadata": {},
          "execution_count": 22
        }
      ]
    },
    {
      "cell_type": "code",
      "source": [
        "new_corp[0]"
      ],
      "metadata": {
        "colab": {
          "base_uri": "https://localhost:8080/",
          "height": 53
        },
        "id": "BwQYqSn4gyKK",
        "outputId": "7e5e00b5-9749-42fb-962d-ea1d90c0c45f"
      },
      "execution_count": 23,
      "outputs": [
        {
          "output_type": "execute_result",
          "data": {
            "text/plain": [
              "'indian prime minister narendra modi struck new agreement wednesday australian counterpart anthony albanese migration green hydrogen raising concern attack hindu temple sydney'"
            ],
            "application/vnd.google.colaboratory.intrinsic+json": {
              "type": "string"
            }
          },
          "metadata": {},
          "execution_count": 23
        }
      ]
    },
    {
      "cell_type": "code",
      "source": [
        "import pandas as pd\n",
        "X = cv.fit_transform(new_corp)\n",
        "\n",
        "X[0].toarray()"
      ],
      "metadata": {
        "colab": {
          "base_uri": "https://localhost:8080/"
        },
        "id": "-zkkYStfg0OL",
        "outputId": "6e5c0c2b-c2d6-4a91-ab82-cc8bd19e9672"
      },
      "execution_count": 24,
      "outputs": [
        {
          "output_type": "execute_result",
          "data": {
            "text/plain": [
              "array([[0, 0, 0, 0, 0, 0, 0, 0, 0, 0, 0, 1, 1, 0, 0, 0, 0, 1, 1, 0, 0, 0,\n",
              "        0, 1, 1, 0, 0, 0, 0, 0, 0, 0, 0, 0, 0, 0, 0, 1, 1, 0, 0, 0, 0, 0,\n",
              "        0, 0, 0, 0, 0, 0, 0, 1, 1, 0, 0, 0, 0, 0, 0, 0, 0, 0, 0, 0, 0, 0,\n",
              "        0, 0, 0, 1, 1, 0, 0, 0, 1, 1, 0, 0, 0, 0, 0, 0, 0, 0, 0, 0, 0, 0,\n",
              "        0, 0, 0, 0, 0, 0, 0, 0, 0, 0, 0, 0, 0, 0, 0, 1, 1, 0, 0, 0, 0, 0,\n",
              "        0, 0, 0, 0, 0, 0, 0, 0, 0, 1, 1, 0, 0, 0, 0, 1, 1, 0, 0, 0, 0, 0,\n",
              "        1, 1, 0, 0, 0, 0, 0, 0, 0, 0, 0, 0, 0, 0, 0, 0, 0, 0, 0, 0, 0, 0,\n",
              "        0, 0, 0, 0, 0, 0, 0, 0, 0, 0, 0, 0, 0, 0, 0, 1, 1, 0, 0, 1, 1, 0,\n",
              "        0, 0, 0, 0, 0, 0, 0, 0, 0, 0, 0, 0, 0, 0, 0, 1, 1, 0, 0, 0, 0, 0,\n",
              "        0, 0, 0, 0, 0, 1, 1, 0, 0, 0, 0, 0, 0, 1, 1, 0, 0, 0, 0, 0, 0, 0,\n",
              "        0, 0, 0, 0, 0, 0, 0, 0, 0, 0, 0, 0, 0, 0, 0, 0, 0, 0, 1, 0, 1, 0,\n",
              "        0, 0, 0, 0, 0, 0, 0, 0, 0, 0, 1, 1, 0, 0, 0, 0, 0, 0, 0, 0, 0, 0,\n",
              "        0, 0, 0, 0, 0, 0, 0, 0, 0, 0, 0, 0, 0, 0, 0, 0, 0, 0, 0, 0, 0, 0,\n",
              "        0, 0, 0, 0, 0, 0, 1, 1, 0, 0, 0, 0, 0, 0, 0, 0, 0, 0, 0, 0, 0, 0,\n",
              "        0, 0, 1, 0, 0, 0, 0, 0, 0, 0, 0, 0, 0, 0, 0, 0, 0, 0, 0, 0, 0, 0,\n",
              "        0, 0, 0, 0, 0, 0, 0, 1, 1, 0, 0, 0, 0, 0, 0, 0, 0, 0, 0, 0, 0]])"
            ]
          },
          "metadata": {},
          "execution_count": 24
        }
      ]
    },
    {
      "cell_type": "code",
      "source": [
        "### TFIDF\n",
        "from sklearn.feature_extraction.text import TfidfVectorizer\n",
        "cv=TfidfVectorizer()\n",
        "X=cv.fit_transform(new_corp)"
      ],
      "metadata": {
        "id": "prvKKJCMCjFS"
      },
      "execution_count": 25,
      "outputs": []
    },
    {
      "cell_type": "code",
      "source": [
        "new_corp[0]"
      ],
      "metadata": {
        "colab": {
          "base_uri": "https://localhost:8080/",
          "height": 53
        },
        "id": "lWi3kVIYC0Vs",
        "outputId": "4b9b901d-60b6-40c4-cb49-a1812682669d"
      },
      "execution_count": 26,
      "outputs": [
        {
          "output_type": "execute_result",
          "data": {
            "text/plain": [
              "'indian prime minister narendra modi struck new agreement wednesday australian counterpart anthony albanese migration green hydrogen raising concern attack hindu temple sydney'"
            ],
            "application/vnd.google.colaboratory.intrinsic+json": {
              "type": "string"
            }
          },
          "metadata": {},
          "execution_count": 26
        }
      ]
    },
    {
      "cell_type": "code",
      "source": [
        "X[0].toarray()"
      ],
      "metadata": {
        "colab": {
          "base_uri": "https://localhost:8080/"
        },
        "id": "v7E0FWP9C5Id",
        "outputId": "63fdf4fc-6fef-4ffc-c7af-e634e0b3bcaa"
      },
      "execution_count": 27,
      "outputs": [
        {
          "output_type": "execute_result",
          "data": {
            "text/plain": [
              "array([[0.        , 0.        , 0.        , 0.        , 0.        ,\n",
              "        0.24160528, 0.1664568 , 0.        , 0.24160528, 0.        ,\n",
              "        0.        , 0.        , 0.        , 0.        , 0.20835155,\n",
              "        0.        , 0.20835155, 0.        , 0.        , 0.        ,\n",
              "        0.        , 0.        , 0.        , 0.        , 0.        ,\n",
              "        0.24160528, 0.        , 0.        , 0.        , 0.24160528,\n",
              "        0.        , 0.        , 0.        , 0.        , 0.        ,\n",
              "        0.        , 0.        , 0.        , 0.        , 0.        ,\n",
              "        0.        , 0.        , 0.        , 0.        , 0.        ,\n",
              "        0.24160528, 0.        , 0.        , 0.        , 0.        ,\n",
              "        0.18475765, 0.        , 0.24160528, 0.        , 0.20835155,\n",
              "        0.        , 0.        , 0.        , 0.        , 0.        ,\n",
              "        0.        , 0.        , 0.        , 0.        , 0.        ,\n",
              "        0.        , 0.        , 0.        , 0.        , 0.24160528,\n",
              "        0.18475765, 0.        , 0.10960917, 0.        , 0.        ,\n",
              "        0.24160528, 0.        , 0.        , 0.20835155, 0.        ,\n",
              "        0.        , 0.        , 0.        , 0.        , 0.        ,\n",
              "        0.        , 0.        , 0.        , 0.        , 0.18475765,\n",
              "        0.        , 0.        , 0.        , 0.        , 0.        ,\n",
              "        0.        , 0.24160528, 0.        , 0.        , 0.        ,\n",
              "        0.        , 0.        , 0.        , 0.        , 0.        ,\n",
              "        0.        , 0.        , 0.        , 0.        , 0.        ,\n",
              "        0.        , 0.        , 0.        , 0.        , 0.        ,\n",
              "        0.        , 0.        , 0.        , 0.24160528, 0.        ,\n",
              "        0.15150392, 0.        , 0.        , 0.18475765, 0.        ,\n",
              "        0.        , 0.        , 0.        , 0.        , 0.        ,\n",
              "        0.        , 0.        , 0.        , 0.        , 0.        ,\n",
              "        0.        , 0.20835155, 0.        , 0.        , 0.        ,\n",
              "        0.        , 0.        ]])"
            ]
          },
          "metadata": {},
          "execution_count": 27
        }
      ]
    }
  ]
}